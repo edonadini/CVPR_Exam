{
 "cells": [
  {
   "cell_type": "markdown",
   "source": [
    "# Project 3"
   ],
   "metadata": {
    "collapsed": false
   }
  },
  {
   "cell_type": "markdown",
   "source": [
    "This project requires the implementation of an image classifier based on convolutional neural networks. The provided dataset (from [Lazebnik et al., 2006]),\n",
    "contains 15 categories (office, kitchen, living room, bedroom, store, industrial,\n",
    "tall building, inside city, street, highway, coast, open country, mountain, forest,\n",
    "suburb), and is already divided in training set and test set."
   ],
   "metadata": {
    "collapsed": false
   }
  },
  {
   "cell_type": "markdown",
   "source": [
    "### 1. train a shallow network"
   ],
   "metadata": {
    "collapsed": false
   }
  },
  {
   "cell_type": "markdown",
   "source": [
    "Libraries used."
   ],
   "metadata": {
    "collapsed": false
   }
  },
  {
   "cell_type": "code",
   "execution_count": null,
   "outputs": [],
   "source": [
    "import keras as ks\n",
    "from keras.models import Sequential\n",
    "from keras.layers import Dense, Conv2D, Flatten, MaxPooling2D, Activation\n",
    "from keras.callbacks import EarlyStopping\n",
    "import matplotlib.pyplot as plt\n",
    "from sklearn.model_selection import train_test_split\n",
    "from keras.utils import to_categorical\n",
    "import os\n",
    "import glob\n",
    "import cv2 as cv2"
   ],
   "metadata": {
    "collapsed": false,
    "pycharm": {
     "name": "#%%\n"
    }
   }
  },
  {
   "cell_type": "code",
   "execution_count": null,
   "outputs": [],
   "source": [
    "import utility as ut\n",
    "from buildDataSet import retrieve_from, reshape"
   ],
   "metadata": {
    "collapsed": false,
    "pycharm": {
     "name": "#%%\n"
    }
   }
  },
  {
   "cell_type": "markdown",
   "source": [
    "This first part is dedicated to data preprocessing."
   ],
   "metadata": {
    "collapsed": false
   }
  },
  {
   "cell_type": "code",
   "execution_count": null,
   "outputs": [],
   "source": [
    "#path to the directories\n",
    "PATH_TRAIN=r'C:\\Users\\eleon\\Documents\\Uni_Trieste\\DSSC_II_year_I_semester\\Computer Vision\\Exam\\train'\n",
    "PATH_TEST=r'C:\\Users\\eleon\\Documents\\Uni_Trieste\\DSSC_II_year_I_semester\\Computer Vision\\Exam\\test'\n",
    "\n",
    "#array of the class\n",
    "LABELS=[os.path.basename(i) for i in glob.glob(PATH_TRAIN + '/*', recursive=True)]\n",
    "NUM_CLASSES = len(LABELS) #15\n",
    "print(\"Class number: \", NUM_CLASSES)\n",
    "print(\"Class names: \", LABELS)"
   ],
   "metadata": {
    "collapsed": false,
    "pycharm": {
     "name": "#%%\n"
    }
   }
  },
  {
   "cell_type": "code",
   "execution_count": null,
   "outputs": [],
   "source": [
    "#retrieve images from the directory and split the data set\n",
    "X_train_raw, y_train_raw = retrieve_from(PATH_TRAIN, LABELS)\n",
    "X_test, y_test = retrieve_from(PATH_TEST, LABELS)\n",
    "\n",
    "print('Image Dimensions : ',X_test[0].shape)\n",
    "print('len train x: ',len(X_train_raw))\n",
    "print('len test x: ',len(X_test))\n",
    "print('len train y: ',len(y_train_raw))\n",
    "print('len test y: ',len(y_test))"
   ],
   "metadata": {
    "collapsed": false,
    "pycharm": {
     "name": "#%%\n"
    }
   }
  },
  {
   "cell_type": "markdown",
   "source": [
    "Print a sample image to check the correctness of the procedure."
   ],
   "metadata": {
    "collapsed": false
   }
  },
  {
   "cell_type": "code",
   "execution_count": null,
   "outputs": [],
   "source": [
    "cv2.imshow(\"Initial image\", X_train_raw[9])\n",
    "cv2.waitKey(0)\n",
    "cv2.destroyAllWindows()\n",
    "#note: remember to close the images to procede"
   ],
   "metadata": {
    "collapsed": false,
    "pycharm": {
     "name": "#%%\n"
    }
   }
  },
  {
   "cell_type": "markdown",
   "source": [
    "Data manipulation."
   ],
   "metadata": {
    "collapsed": false
   }
  },
  {
   "cell_type": "code",
   "execution_count": null,
   "outputs": [],
   "source": [
    "# Resize the images in a proper dimension\n",
    "X_train_raw = reshape(X_train_raw, width = 64, height = 64, channel = 1)\n",
    "X_test = reshape(X_test, width = 64, height = 64, channel = 1)\n",
    "\n",
    "# Use One-Hot Encoding to convert the labels into a set of numbers to input into the neural network.\n",
    "y_train_one_hot = to_categorical(y_train_raw)\n",
    "y_test_one_hot = to_categorical(y_test)\n",
    "\n",
    "# Split the training set between train 85% and validation set 15%\n",
    "X_train, X_validation, y_train, y_validation = train_test_split(\n",
    "    X_train_raw, y_train_one_hot, train_size=0.85, random_state=42)\n",
    "\n",
    "print('Train set dimintion: ',len(X_train))\n",
    "print('Validation set dimintion: ',len(X_validation))\n",
    "print('Test set dimintion: ',len(X_test))"
   ],
   "metadata": {
    "collapsed": false,
    "pycharm": {
     "name": "#%%\n"
    }
   }
  },
  {
   "cell_type": "markdown",
   "source": [
    "To build the model we need to create the given architecture using Sequential() and add the first layer, a convolution layer to extract features from the input image."
   ],
   "metadata": {
    "collapsed": false
   }
  },
  {
   "cell_type": "code",
   "execution_count": null,
   "outputs": [],
   "source": [
    "# initial weights drawn from a Gaussian distribution with a mean of 0 and a standard deviation of 0.01\n",
    "norm = ks.initializers.RandomNormal(mean=0.0, stddev=0.01, seed=None)\n",
    "\n",
    "# employ Stochastic gradient descent with momentum optimization algorithm\n",
    "sgd = ks.optimizers.SGD(momentum=0.9,nesterov=True)\n",
    "\n",
    "base_model = Sequential([\n",
    "    Conv2D(8, 3,strides=1, padding='same',input_shape=(64,64,1)),\n",
    "    Activation('relu'),\n",
    "    MaxPooling2D(pool_size=2,strides=2),\n",
    "    Conv2D(16, 3,strides=1, padding='same'),\n",
    "    Activation('relu'),\n",
    "    MaxPooling2D(pool_size=2,strides=2),\n",
    "    Conv2D(32, 3,strides=1, padding='same'),\n",
    "    Activation('relu'),\n",
    "    Flatten(),\n",
    "    #set the initial bias values to 0\n",
    "    Dense(NUM_CLASSES, activation='softmax',kernel_initializer=norm, bias_initializer='zeros')\n",
    "])\n",
    "\n",
    "base_model.compile(loss='categorical_crossentropy', optimizer=sgd, metrics = ['accuracy'])"
   ],
   "metadata": {
    "collapsed": false,
    "pycharm": {
     "name": "#%%\n"
    }
   }
  },
  {
   "cell_type": "markdown",
   "source": [
    "Visualize training results, since we don't know the best number of epochs we compute a stopping critera ."
   ],
   "metadata": {
    "collapsed": false
   }
  },
  {
   "cell_type": "code",
   "execution_count": null,
   "outputs": [],
   "source": [
    "es = EarlyStopping(monitor='val_loss', patience=5)\n",
    "#use batch sized of 32\n",
    "batch_sz = 32\n",
    "\n",
    "base_history=base_model.fit(\n",
    "    X_train,\n",
    "    y_train,\n",
    "    batch_size=batch_sz,\n",
    "    epochs=20,\n",
    "    validation_data=(X_validation,y_validation),\n",
    "    shuffle=True,\n",
    "    callbacks=[es]\n",
    ")"
   ],
   "metadata": {
    "collapsed": false,
    "pycharm": {
     "name": "#%%\n"
    }
   }
  },
  {
   "cell_type": "markdown",
   "source": [
    "Plot the model and the results"
   ],
   "metadata": {
    "collapsed": false
   }
  },
  {
   "cell_type": "code",
   "execution_count": null,
   "outputs": [],
   "source": [
    "ut.plot_acc_loss(base_history)\n",
    "plt.savefig(\"accuracy and loss base model\");"
   ],
   "metadata": {
    "collapsed": false,
    "pycharm": {
     "name": "#%%\n"
    }
   }
  },
  {
   "cell_type": "markdown",
   "source": [
    "Print the accuracy and loss for the test set"
   ],
   "metadata": {
    "collapsed": false
   }
  },
  {
   "cell_type": "code",
   "execution_count": null,
   "outputs": [],
   "source": [
    "base_loss, base_accuracy = base_model.evaluate(X_test,y_test_one_hot)\n",
    "print(\"loss: {:.2f}\".format(base_loss))\n",
    "print(\"accuracy: {:.2f}\".format(base_accuracy))"
   ],
   "metadata": {
    "collapsed": false,
    "pycharm": {
     "name": "#%%\n"
    }
   }
  },
  {
   "cell_type": "markdown",
   "source": [
    "Plot normalized confusion matrix"
   ],
   "metadata": {
    "collapsed": false
   }
  },
  {
   "cell_type": "code",
   "execution_count": null,
   "outputs": [],
   "source": [
    "y_pred_base = base_model.predict_classes(X_test)\n",
    "ut.plot_confusion_matrix(y_test,y_pred_base, LABELS)\n",
    "plt.savefig(\"confusion matrix base model\");"
   ],
   "metadata": {
    "collapsed": false,
    "pycharm": {
     "name": "#%%\n"
    }
   }
  },
  {
   "cell_type": "code",
   "execution_count": null,
   "outputs": [],
   "source": [
    "print('Classification Report')\n",
    "print(ut.classification_report(y_test, y_pred_base, target_names=LABELS))\n"
   ],
   "metadata": {
    "collapsed": false,
    "pycharm": {
     "name": "#%%\n"
    }
   }
  }
 ],
 "metadata": {
  "kernelspec": {
   "display_name": "Python 3",
   "language": "python",
   "name": "python3"
  },
  "language_info": {
   "codemirror_mode": {
    "name": "ipython",
    "version": 3
   },
   "file_extension": ".py",
   "mimetype": "text/x-python",
   "name": "python",
   "nbconvert_exporter": "python",
   "pygments_lexer": "ipython3",
   "version": "3.7.3"
  },
  "pycharm": {
   "stem_cell": {
    "cell_type": "raw",
    "source": [],
    "metadata": {
     "collapsed": false
    }
   }
  }
 },
 "nbformat": 4,
 "nbformat_minor": 2
}